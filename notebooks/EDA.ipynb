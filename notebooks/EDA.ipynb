{
 "cells": [
  {
   "cell_type": "code",
   "execution_count": null,
   "metadata": {},
   "outputs": [],
   "source": [
    "import opendatasets as od\n",
    "\n",
    "data_url = \"https://www.kaggle.com/datasets/nphantawee/\"\n",
    "dataset_name = \"pump-sensor-data\"\n",
    "data_file = \"sensor.csv\"\n",
    "data_dir = \"../data\"\n",
    "od.download(data_url+dataset_name, data_dir=data_dir) # baixa o arquivo da url fornecida no diretório selecionado "
   ]
  },
  {
   "cell_type": "code",
   "execution_count": null,
   "metadata": {},
   "outputs": [],
   "source": [
    "import pandas as pd\n",
    "import sweetviz as sv\n",
    "\n",
    "import warnings\n",
    "warnings.filterwarnings('ignore')"
   ]
  },
  {
   "cell_type": "code",
   "execution_count": null,
   "metadata": {},
   "outputs": [],
   "source": [
    "df = pd.read_csv(f'{data_dir}/{dataset_name}/{data_file}')\n",
    "df.head()"
   ]
  },
  {
   "cell_type": "code",
   "execution_count": null,
   "metadata": {},
   "outputs": [],
   "source": [
    "print(f'{\"Nome\":^30s}|{\"Primeiras Linhas\":^30s}|{\"DataType\":^15s}|{\"Null\":^8s}|{\"% Null\":^8s}')\n",
    "for col in list(df.columns):\n",
    "    print(f'{\"-\"*30}|{\"-\"*30}|{\"-\"*15}|{\"-\"*8}|{\"-\"*8}')\n",
    "    print(f'{col:<30s}|{str(df[col][0]):<30s}|{str(df[col].dtype):<15s}|{df[col].isna().sum():8d}|{df[col].isna().sum()/len(df[col]):0.4%}\\n{\" \"*30:<30s}|{str(df[col][1]):<30s}|{\" \"*15}|{\" \"*8}|{\" \"*8}')"
   ]
  },
  {
   "attachments": {},
   "cell_type": "markdown",
   "metadata": {},
   "source": [
    "# Primeiras impressões:\n",
    "Avaliando de forma grosseira e superficial o dataframe, percebemos que a maior parte das colunas são números não-inteiros/**float64**.\n",
    "Isso faz bastante sentido, já que teoricamente são valores de sensores físicos, e portanto, variáveis numéricas. \n",
    "\n",
    "1. Podemos perceber que a coluna *\"machine_status\"*, que seria nosso target, está como texto/**object**. Precisamos checar se é possível transformá-la em categórica, e quantas categorias existem.\n",
    "2. A coluna *\"Unnamed: 0\"* parece ser apenas o index trazido pelo arquivo CSV. Podemos eliminá-la.\n",
    "3. A coluna *\"timestamp\"* está em formato de texto. Vamos convertê-la em formato datetime para facilitar as análises. (\"2018-04-01 00:00:00\")\n",
    "4. A coluna *\"sensor_15\"* está apenas com valores nulos. Precisamos entender como tratá-la, e se é possível eliminar. \n",
    "5. A maior parte das colunas possui valores nulos. Precisamos investigar se estão todos localizados no mesmo timestamp (o que sugeriria um possível problema na comunicação), ou se estão em pontos espalhados no tempo, sugerindo falhas específicas nos sensores.\n",
    "\n",
    "Vamos avaliar os dados com a biblioteca sweetviz para confirmar as hipoteses"
   ]
  },
  {
   "cell_type": "code",
   "execution_count": null,
   "metadata": {},
   "outputs": [],
   "source": [
    "%%time\n",
    "my_report = sv.analyze(df) # Realiza uma rápida análise exploratória dos dados, identificando variáveis categóricas, missing values e potenciais correlações entre colunas. \n",
    "my_report.show_notebook() "
   ]
  }
 ],
 "metadata": {
  "kernelspec": {
   "display_name": "i2a2teste",
   "language": "python",
   "name": "python3"
  },
  "language_info": {
   "codemirror_mode": {
    "name": "ipython",
    "version": 3
   },
   "file_extension": ".py",
   "mimetype": "text/x-python",
   "name": "python",
   "nbconvert_exporter": "python",
   "pygments_lexer": "ipython3",
   "version": "3.10.6"
  },
  "orig_nbformat": 4,
  "vscode": {
   "interpreter": {
    "hash": "d75e400692922f91fac78bfa0436d9e03e579bf70039fc82b70c33bede90d82c"
   }
  }
 },
 "nbformat": 4,
 "nbformat_minor": 2
}
